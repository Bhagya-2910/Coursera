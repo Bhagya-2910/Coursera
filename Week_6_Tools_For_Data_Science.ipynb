{
 "cells": [
  {
   "cell_type": "markdown",
   "id": "e252a4ae",
   "metadata": {},
   "source": [
    "# Exercise 2 - Create a markdown cell with the title of the notebook. (1 pt)"
   ]
  },
  {
   "cell_type": "markdown",
   "id": "6ea2ae83",
   "metadata": {},
   "source": [
    "### my notebook"
   ]
  },
  {
   "cell_type": "markdown",
   "id": "f879107b",
   "metadata": {},
   "source": [
    "# Exercise 3 - Create a markdown cell for an introduction. (1 pt)"
   ]
  },
  {
   "cell_type": "markdown",
   "id": "90b45434",
   "metadata": {},
   "source": [
    "### this is the assignment that has to be submitted"
   ]
  },
  {
   "cell_type": "markdown",
   "id": "c029898c",
   "metadata": {},
   "source": [
    "# Exercise 4 - Create a markdown cell to list data science languages. (3 pts)"
   ]
  },
  {
   "cell_type": "markdown",
   "id": "94934470",
   "metadata": {},
   "source": [
    "### python,R,Julia"
   ]
  },
  {
   "cell_type": "markdown",
   "id": "50f617f0",
   "metadata": {},
   "source": [
    "# Exercise 5 - Create a markdown cell to list data science libraries. (3 pts)"
   ]
  },
  {
   "cell_type": "markdown",
   "id": "4040a997",
   "metadata": {},
   "source": [
    "### numpy,pandas,plottly,GGplot"
   ]
  },
  {
   "cell_type": "markdown",
   "id": "712ffe8d",
   "metadata": {},
   "source": [
    "# Exercise 6 - Create a markdown cell with a table of Data Science tools. (3 pts)\n"
   ]
  },
  {
   "cell_type": "markdown",
   "id": "b8ecb2c4",
   "metadata": {},
   "source": [
    "| Tool             |\n",
    "|------------------|\n",
    "| Python           |\n",
    "| R                |\n",
    "| Jupyter Notebook |\n",
    "\n"
   ]
  },
  {
   "cell_type": "markdown",
   "id": "5bd65689",
   "metadata": {},
   "source": [
    "# Exercise 7 - Create a markdown cell introducing arithmetic expression examples. (1 pt)\n",
    "\n"
   ]
  },
  {
   "cell_type": "markdown",
   "id": "566d9a0a",
   "metadata": {},
   "source": [
    "##### Arithmetic Expression Examples\n",
    "\n",
    "In this section, we'll explore various arithmetic expressions and operations. Arithmetic expressions involve mathematical calculations using operators like addition, subtraction, multiplication, and division. These expressions are fundamental in mathematics and play a significant role in various programming languages, including Python.\n",
    "\n",
    "Let's start with some basic examples:\n",
    "\n",
    "### Addition\n",
    "\n",
    "```python\n",
    "# Addition\n",
    "result = 5 + 3\n",
    "print(\"5 + 3 =\", result)\n"
   ]
  },
  {
   "cell_type": "markdown",
   "id": "c88df4ae",
   "metadata": {},
   "source": [
    "# Exercise 8 - Create a code cell to multiply and add numbers. (2 pts)\n",
    "\n"
   ]
  },
  {
   "cell_type": "code",
   "execution_count": 7,
   "id": "9885f777",
   "metadata": {},
   "outputs": [
    {
     "name": "stdout",
     "output_type": "stream",
     "text": [
      "('Multiplication of the number is : ', 6)\n",
      "('addition of the number is : ', 6)\n"
     ]
    }
   ],
   "source": [
    "def mult(a,b):\n",
    "    return 'Multiplication of the number is : ', a*b\n",
    "def add(a,b):\n",
    "    return 'addition of the number is : ', a+b\n",
    "print(mult(2,3))\n",
    "print(add(3,3))"
   ]
  },
  {
   "cell_type": "markdown",
   "id": "fee0e2ab",
   "metadata": {},
   "source": [
    "# Exercise 9 - Create a code cell to convert minutes to hours. (2 pts)\n",
    "\n"
   ]
  },
  {
   "cell_type": "code",
   "execution_count": 10,
   "id": "910664cc",
   "metadata": {},
   "outputs": [
    {
     "data": {
      "text/plain": [
       "('min to hr : ', 1.0)"
      ]
     },
     "execution_count": 10,
     "metadata": {},
     "output_type": "execute_result"
    }
   ],
   "source": [
    "def conmintohr(a):\n",
    "    return 'min to hr : ', a/60\n",
    "conmintohr(60)"
   ]
  },
  {
   "cell_type": "markdown",
   "id": "c48964e9",
   "metadata": {},
   "source": [
    "# Exercise 10 -Insert a markdown cell to list Objectives. (3 pts)\n",
    "\n"
   ]
  },
  {
   "cell_type": "markdown",
   "id": "4e168837",
   "metadata": {},
   "source": [
    "## Objectives\n",
    "\n",
    "In this section, we'll outline the key objectives of our project or document. Objectives provide a clear understanding of what we aim to achieve. They serve as a roadmap and help guide the reader or project team toward the desired goals. \n",
    "\n",
    "Our objectives include:\n",
    "\n",
    "1. **Data Collection**: Gather relevant data from various sources.\n",
    "\n",
    "2. **Data Analysis**: Perform in-depth analysis of the collected data to extract valuable insights.\n",
    "\n",
    "3. **Model Development**: Create machine learning models for predictive or classification tasks.\n",
    "\n",
    "4. **Data Visualization**: Present data and results through effective visualizations.\n",
    "\n",
    "5. **Documentation**: Provide comprehensive documentation for the project, including code comments and user guides.\n",
    "\n",
    "6. **Testing and Validation**: Test models and algorithms rigorously to ensure accuracy and reliability.\n",
    "\n",
    "7. **Deployment**: Implement the solution in a production environment if applicable.\n",
    "\n",
    "8. **Performance Evaluation**: Continuously monitor and evaluate the performance of the solution.\n",
    "\n",
    "These objectives will serve as our guide throughout the project, ensuring that we stay on track and achieve our desired outcomes.\n"
   ]
  },
  {
   "cell_type": "markdown",
   "id": "8a675314",
   "metadata": {},
   "source": [
    "# Exercise 11 - Create a markdown cell to indicate the Author’s name. (2 pts)\n",
    "\n"
   ]
  },
  {
   "cell_type": "markdown",
   "id": "92d3e853",
   "metadata": {},
   "source": [
    "## Author's Name"
   ]
  },
  {
   "cell_type": "markdown",
   "id": "20bed528",
   "metadata": {},
   "source": [
    "# Exercise 12 - Share your notebook through GitHub (3 pts)\n",
    "\n"
   ]
  },
  {
   "cell_type": "code",
   "execution_count": null,
   "id": "11765e19",
   "metadata": {},
   "outputs": [],
   "source": []
  },
  {
   "cell_type": "markdown",
   "id": "02f87d05",
   "metadata": {},
   "source": [
    "# Exercise 13 - Take a screenshot of the first page of the notebook. (1 pt)\n",
    "\n"
   ]
  },
  {
   "cell_type": "code",
   "execution_count": null,
   "id": "4788dd1e",
   "metadata": {},
   "outputs": [],
   "source": []
  }
 ],
 "metadata": {
  "kernelspec": {
   "display_name": "Python 3 (ipykernel)",
   "language": "python",
   "name": "python3"
  },
  "language_info": {
   "codemirror_mode": {
    "name": "ipython",
    "version": 3
   },
   "file_extension": ".py",
   "mimetype": "text/x-python",
   "name": "python",
   "nbconvert_exporter": "python",
   "pygments_lexer": "ipython3",
   "version": "3.10.9"
  }
 },
 "nbformat": 4,
 "nbformat_minor": 5
}
